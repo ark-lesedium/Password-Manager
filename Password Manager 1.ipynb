{
 "cells": [
  {
   "cell_type": "code",
   "execution_count": 2,
   "metadata": {},
   "outputs": [
    {
     "ename": "NameError",
     "evalue": "name 'f' is not defined",
     "output_type": "error",
     "traceback": [
      "\u001b[1;31m---------------------------------------------------------------------------\u001b[0m",
      "\u001b[1;31mNameError\u001b[0m                                 Traceback (most recent call last)",
      "Cell \u001b[1;32mIn[2], line 34\u001b[0m\n\u001b[0;32m     31\u001b[0m     \u001b[38;5;28;01mbreak\u001b[39;00m\n\u001b[0;32m     33\u001b[0m \u001b[38;5;28;01mif\u001b[39;00m mode \u001b[38;5;241m==\u001b[39m \u001b[38;5;124m'\u001b[39m\u001b[38;5;124mview\u001b[39m\u001b[38;5;124m'\u001b[39m:\n\u001b[1;32m---> 34\u001b[0m     \u001b[43mview\u001b[49m\u001b[43m(\u001b[49m\u001b[43m)\u001b[49m\n\u001b[0;32m     35\u001b[0m \u001b[38;5;28;01melif\u001b[39;00m mode \u001b[38;5;241m==\u001b[39m \u001b[38;5;124m'\u001b[39m\u001b[38;5;124madd\u001b[39m\u001b[38;5;124m'\u001b[39m:\n\u001b[0;32m     36\u001b[0m     add()\n",
      "Cell \u001b[1;32mIn[2], line 22\u001b[0m, in \u001b[0;36mview\u001b[1;34m()\u001b[0m\n\u001b[0;32m     21\u001b[0m \u001b[38;5;28;01mdef\u001b[39;00m \u001b[38;5;21mview\u001b[39m():\n\u001b[1;32m---> 22\u001b[0m     \u001b[38;5;28;01mfor\u001b[39;00m line \u001b[38;5;129;01min\u001b[39;00m \u001b[43mf\u001b[49m\u001b[38;5;241m.\u001b[39mreadlines():\n\u001b[0;32m     23\u001b[0m         data \u001b[38;5;241m=\u001b[39m line\u001b[38;5;241m.\u001b[39mrstrip()\n\u001b[0;32m     24\u001b[0m         user, passw \u001b[38;5;241m=\u001b[39m data\u001b[38;5;241m.\u001b[39msplit(\u001b[38;5;124m\"\u001b[39m\u001b[38;5;124m|\u001b[39m\u001b[38;5;124m\"\u001b[39m)\n",
      "\u001b[1;31mNameError\u001b[0m: name 'f' is not defined"
     ]
    }
   ],
   "source": [
    "'''from cryptography.fernet import Fernet\n",
    "\n",
    "def write_key():\n",
    "    key = Fernet.generate_key()\n",
    "    with open(\"key.key\", \"wb\") as key_file:\n",
    "        key_file.write(key)\n",
    "        \n",
    "def load_key():\n",
    "    file = open(\"key.key\", \"rb\")\n",
    "    key = file.read()\n",
    "    file.close()\n",
    "    return key'''\n",
    "\n",
    "def add():\n",
    "    name = input('Account Name: ')\n",
    "    password = input('Password')\n",
    "    \n",
    "    with open('passwords.txt', 'a') as f:\n",
    "        f.write(name + \"|\" + \"\\n\")\n",
    "        \n",
    "def view():\n",
    "    for line in f.readlines():\n",
    "        data = line.rstrip()\n",
    "        user, passw = data.split(\"|\")\n",
    "        print(\"User: \", user, \"| Password\")\n",
    "\n",
    "while True:\n",
    "    mode = input(\"Would you like to add a new password or view an existing one(view, add), press q to quit\").lower()\n",
    "    \n",
    "    if mode == 'q':\n",
    "        break\n",
    "    \n",
    "    if mode == 'view':\n",
    "        view()\n",
    "    elif mode == 'add':\n",
    "        add()\n",
    "    else:\n",
    "        print('Invalid mode.')\n",
    "        continue\n",
    "    \n",
    "\n",
    "\n",
    "        "
   ]
  },
  {
   "cell_type": "code",
   "execution_count": null,
   "metadata": {},
   "outputs": [],
   "source": []
  }
 ],
 "metadata": {
  "kernelspec": {
   "display_name": "newPy",
   "language": "python",
   "name": "python3"
  },
  "language_info": {
   "codemirror_mode": {
    "name": "ipython",
    "version": 3
   },
   "file_extension": ".py",
   "mimetype": "text/x-python",
   "name": "python",
   "nbconvert_exporter": "python",
   "pygments_lexer": "ipython3",
   "version": "3.11.9"
  }
 },
 "nbformat": 4,
 "nbformat_minor": 2
}
